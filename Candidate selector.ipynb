{
  "metadata": {
    "language_info": {
      "codemirror_mode": {
        "name": "python",
        "version": 3
      },
      "file_extension": ".py",
      "mimetype": "text/x-python",
      "name": "python",
      "nbconvert_exporter": "python",
      "pygments_lexer": "ipython3",
      "version": "3.8"
    },
    "kernelspec": {
      "name": "python",
      "display_name": "Python (Pyodide)",
      "language": "python"
    }
  },
  "nbformat_minor": 4,
  "nbformat": 4,
  "cells": [
    {
      "cell_type": "code",
      "source": "import numpy as np\nimport pandas as pd\nimport matplotlib.pyplot as plt\nimport warnings\nwarnings.filterwarnings('ignore')\nfrom sklearn.naive_bayes import MultinomialNB\nfrom sklearn.multiclass import OneVsRestClassifier\nfrom sklearn import metrics\nfrom sklearn.metrics import accuracy_score\nfrom pandas.plotting import scatter_matrix\nfrom sklearn.neighbors import KNeighborsClassifier\nfrom sklearn import metrics\n\nresumeDataSet = pd.read_csv('UpdatedResumeDataSet.csv' ,encoding='utf-8')\nresumeDataSet['cleaned_resume'] = ''\nresumeDataSet.head()\n",
      "metadata": {
        "trusted": true
      },
      "execution_count": null,
      "outputs": []
    },
    {
      "cell_type": "code",
      "source": "resumeDataSet.info()",
      "metadata": {
        "trusted": true
      },
      "execution_count": null,
      "outputs": []
    },
    {
      "cell_type": "code",
      "source": "print (\"Displaying the distinct categories of resume:\\n\\n \")\nprint (resumeDataSet['Category'].unique())",
      "metadata": {
        "trusted": true
      },
      "execution_count": null,
      "outputs": []
    },
    {
      "cell_type": "code",
      "source": "print (\"Displaying the distinct categories of resume and the number of records belonging to each category:\\n\\n\")\nprint (resumeDataSet['Category'].value_counts())",
      "metadata": {
        "trusted": true
      },
      "execution_count": null,
      "outputs": []
    },
    {
      "cell_type": "code",
      "source": "import seaborn as sns\nplt.figure(figsize=(20,5))\nplt.xticks(rotation=90)\nax=sns.countplot(x=\"Category\", data=resumeDataSet)\nfor p in ax.patches:\n    ax.annotate(str(p.get_height()), (p.get_x() * 1.01 , p.get_height() * 1.01))\nplt.grid()",
      "metadata": {
        "trusted": true
      },
      "execution_count": null,
      "outputs": []
    },
    {
      "cell_type": "code",
      "source": "from matplotlib.gridspec import GridSpec\ntargetCounts = resumeDataSet['Category'].value_counts()\ntargetLabels  = resumeDataSet['Category'].unique()\n# Make square figures and axes\nplt.figure(1, figsize=(22,22))\nthe_grid = GridSpec(2, 2)\n\n\ncmap = plt.get_cmap('coolwarm')\nplt.subplot(the_grid[0, 1], aspect=1, title='CATEGORY DISTRIBUTION')\n\nsource_pie = plt.pie(targetCounts, labels=targetLabels, autopct='%1.1f%%', shadow=True)\nplt.show()",
      "metadata": {
        "trusted": true
      },
      "execution_count": null,
      "outputs": []
    },
    {
      "cell_type": "code",
      "source": "import re\ndef cleanResume(resumeText):\n    resumeText = re.sub('http\\S+\\s*', ' ', resumeText) \n    resumeText = re.sub('RT|cc', ' ', resumeText)  \n    resumeText = re.sub('#\\S+', '', resumeText)  \n    resumeText = re.sub('@\\S+', '  ', resumeText) \n    resumeText = re.sub('[%s]' % re.escape(\"\"\"!\"#$%&'()*+,-./:;<=>?@[\\]^_`{|}~\"\"\"), ' ', resumeText) \n    resumeText = re.sub(r'[^\\x00-\\x7f]',r' ', resumeText) \n    resumeText = re.sub('\\s+', ' ', resumeText)  \n    return resumeText\n    \nresumeDataSet['cleaned_resume'] = resumeDataSet.Resume.apply(lambda x: cleanResume(x))",
      "metadata": {
        "trusted": true
      },
      "execution_count": null,
      "outputs": []
    },
    {
      "cell_type": "code",
      "source": "resumeDataSet.head()",
      "metadata": {
        "trusted": true
      },
      "execution_count": null,
      "outputs": []
    },
    {
      "cell_type": "code",
      "source": "resumeDataSet_d=resumeDataSet.copy()",
      "metadata": {
        "trusted": true
      },
      "execution_count": null,
      "outputs": []
    },
    {
      "cell_type": "code",
      "source": "import nltk\nfrom nltk.corpus import stopwords\nimport string\nfrom wordcloud import WordCloud\n\noneSetOfStopWords = set(stopwords.words('english')+['``',\"''\"])\ntotalWords =[]\nSentences = resumeDataSet['Resume'].values\ncleanedSentences = \"\"\nfor records in Sentences:\n    cleanedText = cleanResume(records)\n    cleanedSentences += cleanedText\n    requiredWords = nltk.word_tokenize(cleanedText)\n    for word in requiredWords:\n        if word not in oneSetOfStopWords and word not in string.punctuation:\n            totalWords.append(word)\n    \nwordfreqdist = nltk.FreqDist(totalWords)\nmostcommon = wordfreqdist.most_common(50)\nprint(mostcommon)",
      "metadata": {
        "trusted": true
      },
      "execution_count": null,
      "outputs": []
    },
    {
      "cell_type": "code",
      "source": "wc = WordCloud().generate(cleanedSentences)\nplt.figure(figsize=(10,10))\nplt.imshow(wc, interpolation='bilinear')\nplt.axis(\"off\")\nplt.show()",
      "metadata": {
        "trusted": true
      },
      "execution_count": null,
      "outputs": []
    },
    {
      "cell_type": "code",
      "source": "from sklearn.preprocessing import LabelEncoder\n\nvar_mod = ['Category']\nle = LabelEncoder()\nfor i in var_mod:\n    resumeDataSet[i] = le.fit_transform(resumeDataSet[i])",
      "metadata": {
        "trusted": true
      },
      "execution_count": null,
      "outputs": []
    },
    {
      "cell_type": "code",
      "source": "resumeDataSet.head()",
      "metadata": {
        "trusted": true
      },
      "execution_count": null,
      "outputs": []
    },
    {
      "cell_type": "code",
      "source": "resumeDataSet.Category.value_counts()",
      "metadata": {
        "trusted": true
      },
      "execution_count": null,
      "outputs": []
    },
    {
      "cell_type": "code",
      "source": "resumeDataSet_d.Category.value_counts() ",
      "metadata": {
        "trusted": true
      },
      "execution_count": null,
      "outputs": []
    },
    {
      "cell_type": "code",
      "source": "del resumeDataSet_d",
      "metadata": {
        "trusted": true
      },
      "execution_count": null,
      "outputs": []
    },
    {
      "cell_type": "code",
      "source": "from sklearn.model_selection import train_test_split\nfrom sklearn.feature_extraction.text import TfidfVectorizer\nfrom scipy.sparse import hstack\n\nrequiredText = resumeDataSet['cleaned_resume'].values\nrequiredTarget = resumeDataSet['Category'].values\n\nword_vectorizer = TfidfVectorizer(\n    sublinear_tf=True,\n    stop_words='english')\nword_vectorizer.fit(requiredText)\nWordFeatures = word_vectorizer.transform(requiredText)\n\nprint (\"Feature completed .....\")\n\nX_train,X_test,y_train,y_test = train_test_split(WordFeatures,requiredTarget,random_state=42, test_size=0.2,\n                                                 shuffle=True, stratify=requiredTarget)\nprint(X_train.shape)\nprint(X_test.shape)",
      "metadata": {
        "trusted": true
      },
      "execution_count": null,
      "outputs": []
    },
    {
      "cell_type": "code",
      "source": "clf = OneVsRestClassifier(KNeighborsClassifier())\nclf.fit(X_train, y_train)\nprediction = clf.predict(X_test)\nprint('Accuracy of KNeighbors Classifier on training set: {:.2f}'.format(clf.score(X_train, y_train)))\nprint('Accuracy of KNeighbors Classifier on test set:     {:.2f}'.format(clf.score(X_test, y_test)))",
      "metadata": {
        "trusted": true
      },
      "execution_count": null,
      "outputs": []
    },
    {
      "cell_type": "code",
      "source": "print(\"\\n Classification report for classifier %s:\\n%s\\n\" % (clf, metrics.classification_report(y_test, prediction)))",
      "metadata": {
        "trusted": true
      },
      "execution_count": null,
      "outputs": []
    },
    {
      "cell_type": "code",
      "source": "",
      "metadata": {},
      "execution_count": null,
      "outputs": []
    },
    {
      "cell_type": "code",
      "source": "",
      "metadata": {},
      "execution_count": null,
      "outputs": []
    },
    {
      "cell_type": "code",
      "source": "",
      "metadata": {},
      "execution_count": null,
      "outputs": []
    },
    {
      "cell_type": "code",
      "source": "",
      "metadata": {},
      "execution_count": null,
      "outputs": []
    }
  ]
}